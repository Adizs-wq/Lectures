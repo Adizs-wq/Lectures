{
 "cells": [
  {
   "cell_type": "code",
   "execution_count": null,
   "id": "903fde94",
   "metadata": {},
   "outputs": [],
   "source": [
    "fib_cache = {}\n",
    "\n",
    "def fib(n: int):\n",
    "    if n in fib_cache:\n",
    "        return fib_cache[n]\n",
    "    elif n == 0:\n",
    "        return 0\n",
    "    elif n == 1:\n",
    "        return 1\n",
    "    else:\n",
    "        fib_cache[n] = fib(n-1) + fib(n-2)\n",
    "        return fib_cache[n]\n",
    "    \n",
    "finalstring = \"\"\n",
    "for i in range(200):\n",
    "    finalstring += (str(fib(i))) + ' '\n",
    "print(finalstring)\n"
   ]
  }
 ],
 "metadata": {
  "kernelspec": {
   "display_name": "lecture-6 (3.12.3)",
   "language": "python",
   "name": "python3"
  },
  "language_info": {
   "name": "python",
   "version": "3.12.3"
  }
 },
 "nbformat": 4,
 "nbformat_minor": 5
}
