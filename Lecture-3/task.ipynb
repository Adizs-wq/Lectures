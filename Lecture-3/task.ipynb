{
 "cells": [
  {
   "cell_type": "code",
   "execution_count": 3,
   "id": "6b2763be",
   "metadata": {},
   "outputs": [
    {
     "name": "stdout",
     "output_type": "stream",
     "text": [
      "<,>,==?, стартуем с 0\n",
      "2000\n",
      "1000\n",
      "1666\n",
      "1166\n",
      "1566\n",
      "1233\n",
      "947\n",
      "1197\n",
      "Победа!\n"
     ]
    }
   ],
   "source": [
    "c = 0\n",
    "i = 1\n",
    "min = -2000\n",
    "max = 2000\n",
    "if min < 0 and max < 0:\n",
    "    e = min - max\n",
    "elif min > 0 and max > 0:\n",
    "    e = max - min\n",
    "else:\n",
    "    e = abs(min) + max\n",
    "\n",
    "print(\"<,>,==?, стартуем с 0\")\n",
    "while True:\n",
    "    d = input()\n",
    "    if d == \"<\":\n",
    "        c -= (e/2/i)\n",
    "        i += 1\n",
    "        print(int(c))\n",
    "        continue\n",
    "    elif d == \">\":\n",
    "        c += abs((e/2/i))\n",
    "        i += 1\n",
    "        print(int(c))\n",
    "        continue\n",
    "    elif d == \"==\":\n",
    "        print(\"Победа!\")\n",
    "        break\n",
    "    else:\n",
    "        print(\"Белеберду не пиши\")\n",
    "        break"
   ]
  }
 ],
 "metadata": {
  "kernelspec": {
   "display_name": "lecture-3 (3.12.3)",
   "language": "python",
   "name": "python3"
  },
  "language_info": {
   "codemirror_mode": {
    "name": "ipython",
    "version": 3
   },
   "file_extension": ".py",
   "mimetype": "text/x-python",
   "name": "python",
   "nbconvert_exporter": "python",
   "pygments_lexer": "ipython3",
   "version": "3.12.3"
  }
 },
 "nbformat": 4,
 "nbformat_minor": 5
}
