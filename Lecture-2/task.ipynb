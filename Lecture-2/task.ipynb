{
 "cells": [
  {
   "cell_type": "code",
   "execution_count": null,
   "id": "a1d511f4",
   "metadata": {},
   "outputs": [],
   "source": [
    "print(\"Хочешь ли ты сняться в кино? да/нет\")\n",
    "a = input()\n",
    "if a == \"да\":\n",
    "    print(\"Какую роль ты хочешь? Халк/Локи\")\n",
    "    b = input()\n",
    "    if b.capitalize() == \"Халк\":\n",
    "        print(\"Какой у тебя бицепс в объёме?\")\n",
    "        c = int(input())\n",
    "        if c < 60:\n",
    "            print(\"Вы нам не подходите, извините\")\n",
    "        elif c >= 60:\n",
    "            print(\"Вы приняты!\")\n",
    "        else:\n",
    "            print(\"Белеберду не пиши\")\n",
    "    elif b.capitalize() == \"Локи\":\n",
    "        print(\"Кого ты больше любишь, маму или папу?\")\n",
    "        d = input()\n",
    "        if d == \"Папу\":\n",
    "            print(\"Вы нам не подходите, извините\")\n",
    "        elif d == \"маму\":\n",
    "            print(\"Спроси у папы, кого он больше любит\")\n",
    "        else:\n",
    "            print(\"Белеберду не пиши\")\n",
    "    else:\n",
    "        print(\"Белеберду не пиши\")\n",
    "elif a == \"нет\":\n",
    "    print(\"Чтож, спасибо, что уделил внимание, пока\")\n",
    "else:\n",
    "    print(\"Белеберду не пиши\")"
   ]
  }
 ],
 "metadata": {
  "kernelspec": {
   "display_name": "lecture-2 (3.12.3)",
   "language": "python",
   "name": "python3"
  },
  "language_info": {
   "codemirror_mode": {
    "name": "ipython",
    "version": 3
   },
   "file_extension": ".py",
   "mimetype": "text/x-python",
   "name": "python",
   "nbconvert_exporter": "python",
   "pygments_lexer": "ipython3",
   "version": "3.12.3"
  }
 },
 "nbformat": 4,
 "nbformat_minor": 5
}
