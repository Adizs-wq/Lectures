{
 "cells": [
  {
   "cell_type": "code",
   "execution_count": null,
   "id": "46a4a204",
   "metadata": {},
   "outputs": [],
   "source": [
    "x: int = 0\n",
    "y: int = 1\n",
    "sum = 0\n",
    "i: int = 0\n",
    "def fib(lim) -> int:\n",
    "    global x\n",
    "    global y\n",
    "    global sum\n",
    "    global i \n",
    "    sum = x + y\n",
    "    x = y\n",
    "    y = sum\n",
    "    print(x,y)\n",
    "    i += 1\n",
    "    if lim > i:\n",
    "        return fib(10)\n",
    "    else:\n",
    "        return fib\n",
    "\n",
    "fib(10)"
   ]
  }
 ],
 "metadata": {
  "kernelspec": {
   "display_name": "Lecture-5 (3.12.3)",
   "language": "python",
   "name": "python3"
  },
  "language_info": {
   "name": "python",
   "version": "3.12.3"
  }
 },
 "nbformat": 4,
 "nbformat_minor": 5
}
