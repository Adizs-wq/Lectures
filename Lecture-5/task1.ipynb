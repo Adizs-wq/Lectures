{
 "cells": [
  {
   "cell_type": "code",
   "execution_count": null,
   "id": "bdda9930",
   "metadata": {},
   "outputs": [
    {
     "data": {
      "text/html": [
       "<pre style=\"white-space:pre;overflow-x:auto;line-height:normal;font-family:Menlo,'DejaVu Sans Mono',consolas,'Courier New',monospace\">aLeKsEy\n",
       "</pre>\n"
      ],
      "text/plain": [
       "aLeKsEy\n"
      ]
     },
     "metadata": {},
     "output_type": "display_data"
    },
    {
     "data": {
      "text/html": [
       "<pre style=\"white-space:pre;overflow-x:auto;line-height:normal;font-family:Menlo,'DejaVu Sans Mono',consolas,'Courier New',monospace\"><span style=\"color: #000080; text-decoration-color: #000080; font-weight: bold\">Hello</span> Vanya\n",
       "</pre>\n"
      ],
      "text/plain": [
       "\u001b[1;34mHello\u001b[0m Vanya\n"
      ]
     },
     "metadata": {},
     "output_type": "display_data"
    },
    {
     "data": {
      "text/plain": [
       "<function __main__.greet(name: str)>"
      ]
     },
     "execution_count": 2,
     "metadata": {},
     "output_type": "execute_result"
    }
   ],
   "source": [
    "from rich import print\n",
    "def change_name(name):\n",
    "    result = \"\"\n",
    "    for i in range(len(name)):\n",
    "        if i % 2 == 1:\n",
    "            result += name[i].upper()\n",
    "        else:\n",
    "            result += name[i].lower()\n",
    "    return result\n",
    "print(change_name(\"Aleksey\"))\n",
    "\n",
    "def greet(name: str):\n",
    "    print(\"[bold Blue]Hello\",name)\n",
    "    return greet\n",
    "\n",
    "greet(\"Vanya\")"
   ]
  }
 ],
 "metadata": {
  "kernelspec": {
   "display_name": "lecture-5 (3.12.3)",
   "language": "python",
   "name": "python3"
  },
  "language_info": {
   "codemirror_mode": {
    "name": "ipython",
    "version": 3
   },
   "file_extension": ".py",
   "mimetype": "text/x-python",
   "name": "python",
   "nbconvert_exporter": "python",
   "pygments_lexer": "ipython3",
   "version": "3.12.3"
  }
 },
 "nbformat": 4,
 "nbformat_minor": 5
}
