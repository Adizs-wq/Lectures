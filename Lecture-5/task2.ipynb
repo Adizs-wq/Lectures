{
 "cells": [
  {
   "cell_type": "code",
   "execution_count": null,
   "id": "ecacb05f",
   "metadata": {},
   "outputs": [
    {
     "name": "stdout",
     "output_type": "stream",
     "text": [
      "1 1\n",
      "1 2\n",
      "2 3\n",
      "3 5\n",
      "5 8\n",
      "8 13\n",
      "13 21\n",
      "21 34\n",
      "34 55\n",
      "55 89\n"
     ]
    },
    {
     "data": {
      "text/plain": [
       "<function __main__.fib(lim) -> int>"
      ]
     },
     "execution_count": 1,
     "metadata": {},
     "output_type": "execute_result"
    }
   ],
   "source": [
    "x = 0\n",
    "y = 1\n",
    "sum = 0\n",
    "i = 0\n",
    "\n",
    "def fib(lim) -> int:\n",
    "    global x\n",
    "    global y\n",
    "    global sum\n",
    "    global i \n",
    "    sum = x + y\n",
    "    x = y\n",
    "    y = sum\n",
    "    print(x,y)\n",
    "    i += 1\n",
    "    if lim > i:\n",
    "        return fib(10)\n",
    "    else:\n",
    "        return fib\n",
    "\n",
    "fib(10)"
   ]
  }
 ],
 "metadata": {
  "kernelspec": {
   "display_name": "lecture-5 (3.12.3)",
   "language": "python",
   "name": "python3"
  },
  "language_info": {
   "codemirror_mode": {
    "name": "ipython",
    "version": 3
   },
   "file_extension": ".py",
   "mimetype": "text/x-python",
   "name": "python",
   "nbconvert_exporter": "python",
   "pygments_lexer": "ipython3",
   "version": "3.12.3"
  }
 },
 "nbformat": 4,
 "nbformat_minor": 5
}
