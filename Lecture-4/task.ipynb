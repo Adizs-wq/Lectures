{
 "cells": [
  {
   "cell_type": "code",
   "execution_count": 3,
   "id": "f1eba87b",
   "metadata": {},
   "outputs": [
    {
     "name": "stdout",
     "output_type": "stream",
     "text": [
      "      1      \n",
      "     1 1     \n",
      "    1 2 1    \n",
      "   1 3 3 1   \n",
      "  1 4 6 4 1  \n"
     ]
    }
   ],
   "source": [
    "# n = int(input())\n",
    "\n",
    "# a : list = [0]*(1+2*n)\n",
    "\n",
    "# for i in range (n,1,-1):\n",
    "#     output=\"\"\n",
    "#     flip = 1\n",
    "#     stroke = \" \" * (i-1)\n",
    "#     for j in range(0,1+2*(n-i)):\n",
    "#         if flip == 1:\n",
    "#             output+=(\"a\")\n",
    "#         else:\n",
    "#             output+=(\" \")\n",
    "#         flip=flip*-1\n",
    "#     print(stroke, output, stroke)\n",
    "    \n",
    "    \n",
    "n = int(input())\n",
    "triangle = []\n",
    "\n",
    "for i in range (n):\n",
    "    output=\"\"\n",
    "    stroke = \" \" * (n-i)\n",
    "    row = [1] * (i + 1)\n",
    "    if i > 1:\n",
    "        for j in range(1,i):\n",
    "            row[j] = triangle[i-1][j-1] + triangle[i-1][j]\n",
    "    triangle.append(row)\n",
    "    output+=(\" \")\n",
    "    for j in range(0,i+1):\n",
    "        output+=str(row[j])\n",
    "        output+=(\" \")\n",
    "\n",
    "    res = stroke + output + stroke\n",
    "    print(res)"
   ]
  }
 ],
 "metadata": {
  "kernelspec": {
   "display_name": "lecture-4 (3.12.3)",
   "language": "python",
   "name": "python3"
  },
  "language_info": {
   "codemirror_mode": {
    "name": "ipython",
    "version": 3
   },
   "file_extension": ".py",
   "mimetype": "text/x-python",
   "name": "python",
   "nbconvert_exporter": "python",
   "pygments_lexer": "ipython3",
   "version": "3.12.3"
  }
 },
 "nbformat": 4,
 "nbformat_minor": 5
}
