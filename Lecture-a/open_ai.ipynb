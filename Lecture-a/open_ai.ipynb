{
 "cells": [
  {
   "cell_type": "code",
   "execution_count": null,
   "id": "b62a7c28",
   "metadata": {},
   "outputs": [
    {
     "ename": "KeyError",
     "evalue": "'MTA0YmY4NjItYzU0MC00YjA4LWIxMmUtOGVjYmUyOWYxMjFh.9ba64a378a4e74e61be82b4ceea20f25'",
     "output_type": "error",
     "traceback": [
      "\u001b[31m---------------------------------------------------------------------------\u001b[39m",
      "\u001b[31mKeyError\u001b[39m                                  Traceback (most recent call last)",
      "\u001b[36mCell\u001b[39m\u001b[36m \u001b[39m\u001b[32mIn[4]\u001b[39m\u001b[32m, line 5\u001b[39m\n\u001b[32m      1\u001b[39m \u001b[38;5;28;01mimport\u001b[39;00m\u001b[38;5;250m \u001b[39m\u001b[34;01mos\u001b[39;00m\n\u001b[32m      3\u001b[39m \u001b[38;5;28;01mfrom\u001b[39;00m\u001b[38;5;250m \u001b[39m\u001b[34;01mopenai\u001b[39;00m\u001b[38;5;250m \u001b[39m\u001b[38;5;28;01mimport\u001b[39;00m OpenAI\n\u001b[32m----> \u001b[39m\u001b[32m5\u001b[39m api_key = \u001b[43mos\u001b[49m\u001b[43m.\u001b[49m\u001b[43menviron\u001b[49m\u001b[43m[\u001b[49m\u001b[33;43m\"\u001b[39;49m\u001b[33;43mMTA0YmY4NjItYzU0MC00YjA4LWIxMmUtOGVjYmUyOWYxMjFh.9ba64a378a4e74e61be82b4ceea20f25\u001b[39;49m\u001b[33;43m\"\u001b[39;49m\u001b[43m]\u001b[49m\n\u001b[32m      6\u001b[39m url = \u001b[33m\"\u001b[39m\u001b[33mhttps://foundation-models.api.cloud.ru/v1\u001b[39m\u001b[33m\"\u001b[39m\n\u001b[32m      8\u001b[39m client = OpenAI(\n\u001b[32m      9\u001b[39m     api_key=api_key,\n\u001b[32m     10\u001b[39m     base_url=url\n\u001b[32m     11\u001b[39m )\n",
      "\u001b[36mFile \u001b[39m\u001b[32m<frozen os>:685\u001b[39m, in \u001b[36m__getitem__\u001b[39m\u001b[34m(self, key)\u001b[39m\n",
      "\u001b[31mKeyError\u001b[39m: 'MTA0YmY4NjItYzU0MC00YjA4LWIxMmUtOGVjYmUyOWYxMjFh.9ba64a378a4e74e61be82b4ceea20f25'"
     ]
    }
   ],
   "source": [
    "import os\n",
    "\n",
    "from openai import OpenAI\n",
    "\n",
    "api_key = os.environ[\"MTA0YmY4NjItYzU0MC00YjA4LWIxMmUtOGVjYmUyOWYxMjFh.9ba64a378a4e74e61be82b4ceea20f25\"]\n",
    "url = \"https://foundation-models.api.cloud.ru/v1\"\n",
    "\n",
    "client = OpenAI(\n",
    "    api_key=api_key,\n",
    "    base_url=url\n",
    ")\n",
    "\n",
    "response = client.chat.completions.create(\n",
    "    model=\"t-tech/T-pro-it-2.0\",\n",
    "    max_tokens=2500,\n",
    "    temperature=0.5,\n",
    "    presence_penalty=0,\n",
    "    top_p=0.95,\n",
    "    messages=[\n",
    "        {\n",
    "            \"role\": \"user\",\n",
    "            \"content\":\"Как написать хороший код?\"\n",
    "        }\n",
    "    ]\n",
    ")\n",
    "\n",
    "print(response.choices[0].message.content)"
   ]
  }
 ],
 "metadata": {
  "kernelspec": {
   "display_name": "lecture-9 (3.12.3)",
   "language": "python",
   "name": "python3"
  },
  "language_info": {
   "codemirror_mode": {
    "name": "ipython",
    "version": 3
   },
   "file_extension": ".py",
   "mimetype": "text/x-python",
   "name": "python",
   "nbconvert_exporter": "python",
   "pygments_lexer": "ipython3",
   "version": "3.12.3"
  }
 },
 "nbformat": 4,
 "nbformat_minor": 5
}
